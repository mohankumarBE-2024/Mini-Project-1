{
 "cells": [
  {
   "cell_type": "code",
   "execution_count": 2,
   "metadata": {},
   "outputs": [],
   "source": [
    "import pandas as pd\n",
    "import requests\n",
    "import psycopg2\n",
    "from sqlalchemy import create_engine\n",
    "\n",
    "host = \"localhost\"\n",
    "port = \"5432\"\n",
    "database = \"MDTM37DB\"\n",
    "username = \"postgres\"\n",
    "password = \"password\""
   ]
  },
  {
   "cell_type": "code",
   "execution_count": null,
   "metadata": {},
   "outputs": [],
   "source": [
    "url = \"https://api.sportradar.com/tennis/trial/v3/en/competitions.json?api_key=CREbOpUEx8KkSY2oHWgkYrIxA7QI5lIrZGrtJloh\"\n",
    "\n",
    "headers = {\"accept\": \"application/json\"}\n",
    "\n",
    "response = requests.get(url, headers=headers).json()\n",
    "\n",
    "category_list = response['competitions']\n",
    "\n",
    "category_list"
   ]
  },
  {
   "cell_type": "markdown",
   "metadata": {},
   "source": [
    "FETCH DATA FROM API AND CONVERTED INTO DATAFRAME FOR category_table"
   ]
  },
  {
   "cell_type": "code",
   "execution_count": 4,
   "metadata": {},
   "outputs": [
    {
     "name": "stdout",
     "output_type": "stream",
     "text": [
      "5862\n",
      "0\n",
      "(18, 2)\n"
     ]
    }
   ],
   "source": [
    "category_id = []\n",
    "category_name = []\n",
    "for value in category_list:\n",
    "    category_id.append(value['category']['id'])\n",
    "    category_name.append(value['category']['name'])\n",
    "\n",
    "data = {'category_id': category_id, 'category_name': category_name}\n",
    "category_table = pd.DataFrame(data)\n",
    "\n",
    "print(category_table.duplicated().sum())\n",
    "\n",
    "category_table = category_table.drop_duplicates()\n",
    "\n",
    "print(category_table.duplicated().sum())\n",
    "\n",
    "print(category_table.shape)"
   ]
  },
  {
   "cell_type": "markdown",
   "metadata": {},
   "source": [
    "Inserting the data into postgreSQL"
   ]
  },
  {
   "cell_type": "code",
   "execution_count": 12,
   "metadata": {},
   "outputs": [
    {
     "name": "stdout",
     "output_type": "stream",
     "text": [
      "Data successfully pushed to PostgreSQL!\n"
     ]
    }
   ],
   "source": [
    "engine_string = f\"postgresql://{username}:{password}@{host}:{port}/{database}\"\n",
    "engine = create_engine(engine_string)\n",
    "\n",
    "category_table.to_sql('categories', engine, if_exists='append', index=False)\n",
    "\n",
    "print(\"Data successfully pushed to PostgreSQL!\")"
   ]
  },
  {
   "cell_type": "markdown",
   "metadata": {},
   "source": [
    "FETCH DATA FROM API AND CONVERTED INTO DATAFRAME FOR competitions_table"
   ]
  },
  {
   "cell_type": "code",
   "execution_count": 17,
   "metadata": {},
   "outputs": [
    {
     "name": "stdout",
     "output_type": "stream",
     "text": [
      "(5880, 6)\n",
      "0\n"
     ]
    },
    {
     "data": {
      "text/html": [
       "<div>\n",
       "<style scoped>\n",
       "    .dataframe tbody tr th:only-of-type {\n",
       "        vertical-align: middle;\n",
       "    }\n",
       "\n",
       "    .dataframe tbody tr th {\n",
       "        vertical-align: top;\n",
       "    }\n",
       "\n",
       "    .dataframe thead th {\n",
       "        text-align: right;\n",
       "    }\n",
       "</style>\n",
       "<table border=\"1\" class=\"dataframe\">\n",
       "  <thead>\n",
       "    <tr style=\"text-align: right;\">\n",
       "      <th></th>\n",
       "      <th>competition_id</th>\n",
       "      <th>competition_name</th>\n",
       "      <th>parent_id</th>\n",
       "      <th>type</th>\n",
       "      <th>gender</th>\n",
       "      <th>category_id</th>\n",
       "    </tr>\n",
       "  </thead>\n",
       "  <tbody>\n",
       "    <tr>\n",
       "      <th>0</th>\n",
       "      <td>sr:competition:620</td>\n",
       "      <td>Hopman Cup</td>\n",
       "      <td>None</td>\n",
       "      <td>mixed</td>\n",
       "      <td>mixed</td>\n",
       "      <td>sr:category:181</td>\n",
       "    </tr>\n",
       "    <tr>\n",
       "      <th>1</th>\n",
       "      <td>sr:competition:660</td>\n",
       "      <td>World Team Cup</td>\n",
       "      <td>None</td>\n",
       "      <td>mixed</td>\n",
       "      <td>men</td>\n",
       "      <td>sr:category:3</td>\n",
       "    </tr>\n",
       "    <tr>\n",
       "      <th>2</th>\n",
       "      <td>sr:competition:990</td>\n",
       "      <td>ATP Challenger Tour Finals</td>\n",
       "      <td>sr:competition:6239</td>\n",
       "      <td>singles</td>\n",
       "      <td>men</td>\n",
       "      <td>sr:category:72</td>\n",
       "    </tr>\n",
       "    <tr>\n",
       "      <th>3</th>\n",
       "      <td>sr:competition:1207</td>\n",
       "      <td>Championship International Series</td>\n",
       "      <td>None</td>\n",
       "      <td>singles</td>\n",
       "      <td>women</td>\n",
       "      <td>sr:category:6</td>\n",
       "    </tr>\n",
       "    <tr>\n",
       "      <th>4</th>\n",
       "      <td>sr:competition:2100</td>\n",
       "      <td>Davis Cup</td>\n",
       "      <td>None</td>\n",
       "      <td>mixed</td>\n",
       "      <td>men</td>\n",
       "      <td>sr:category:76</td>\n",
       "    </tr>\n",
       "    <tr>\n",
       "      <th>...</th>\n",
       "      <td>...</td>\n",
       "      <td>...</td>\n",
       "      <td>...</td>\n",
       "      <td>...</td>\n",
       "      <td>...</td>\n",
       "      <td>...</td>\n",
       "    </tr>\n",
       "    <tr>\n",
       "      <th>5875</th>\n",
       "      <td>sr:competition:45897</td>\n",
       "      <td>UTR Stockton M01</td>\n",
       "      <td>None</td>\n",
       "      <td>singles</td>\n",
       "      <td>men</td>\n",
       "      <td>sr:category:2516</td>\n",
       "    </tr>\n",
       "    <tr>\n",
       "      <th>5876</th>\n",
       "      <td>sr:competition:45899</td>\n",
       "      <td>UTR Spring W01</td>\n",
       "      <td>None</td>\n",
       "      <td>singles</td>\n",
       "      <td>women</td>\n",
       "      <td>sr:category:2517</td>\n",
       "    </tr>\n",
       "    <tr>\n",
       "      <th>5877</th>\n",
       "      <td>sr:competition:45913</td>\n",
       "      <td>UTR Bucuresti W01</td>\n",
       "      <td>None</td>\n",
       "      <td>singles</td>\n",
       "      <td>women</td>\n",
       "      <td>sr:category:2517</td>\n",
       "    </tr>\n",
       "    <tr>\n",
       "      <th>5878</th>\n",
       "      <td>sr:competition:45915</td>\n",
       "      <td>UTR Rungsted Kyst W01</td>\n",
       "      <td>None</td>\n",
       "      <td>singles</td>\n",
       "      <td>women</td>\n",
       "      <td>sr:category:2517</td>\n",
       "    </tr>\n",
       "    <tr>\n",
       "      <th>5879</th>\n",
       "      <td>sr:competition:45917</td>\n",
       "      <td>UTR Bucuresti W01</td>\n",
       "      <td>None</td>\n",
       "      <td>singles</td>\n",
       "      <td>women</td>\n",
       "      <td>sr:category:2517</td>\n",
       "    </tr>\n",
       "  </tbody>\n",
       "</table>\n",
       "<p>5880 rows × 6 columns</p>\n",
       "</div>"
      ],
      "text/plain": [
       "            competition_id                   competition_name  \\\n",
       "0       sr:competition:620                         Hopman Cup   \n",
       "1       sr:competition:660                     World Team Cup   \n",
       "2       sr:competition:990         ATP Challenger Tour Finals   \n",
       "3      sr:competition:1207  Championship International Series   \n",
       "4      sr:competition:2100                          Davis Cup   \n",
       "...                    ...                                ...   \n",
       "5875  sr:competition:45897                   UTR Stockton M01   \n",
       "5876  sr:competition:45899                     UTR Spring W01   \n",
       "5877  sr:competition:45913                  UTR Bucuresti W01   \n",
       "5878  sr:competition:45915              UTR Rungsted Kyst W01   \n",
       "5879  sr:competition:45917                  UTR Bucuresti W01   \n",
       "\n",
       "                parent_id     type gender       category_id  \n",
       "0                    None    mixed  mixed   sr:category:181  \n",
       "1                    None    mixed    men     sr:category:3  \n",
       "2     sr:competition:6239  singles    men    sr:category:72  \n",
       "3                    None  singles  women     sr:category:6  \n",
       "4                    None    mixed    men    sr:category:76  \n",
       "...                   ...      ...    ...               ...  \n",
       "5875                 None  singles    men  sr:category:2516  \n",
       "5876                 None  singles  women  sr:category:2517  \n",
       "5877                 None  singles  women  sr:category:2517  \n",
       "5878                 None  singles  women  sr:category:2517  \n",
       "5879                 None  singles  women  sr:category:2517  \n",
       "\n",
       "[5880 rows x 6 columns]"
      ]
     },
     "execution_count": 17,
     "metadata": {},
     "output_type": "execute_result"
    }
   ],
   "source": [
    "competition_id = []\n",
    "competition_name = []\n",
    "parent_id = []\n",
    "competition_type = []\n",
    "gender = []\n",
    "category_id = []\n",
    "\n",
    "for value in category_list:\n",
    "    competition_id.append(value.get('id'))\n",
    "    competition_name.append(value.get('name'))\n",
    "    parent_id.append(value.get('parent_id'))\n",
    "    competition_type.append(value.get('type'))\n",
    "    gender.append(value.get('gender'))\n",
    "    category_id.append(value['category']['id'])\n",
    "\n",
    "data = {'competition_id': competition_id, 'competition_name': competition_name, 'parent_id': parent_id, 'type': competition_type, 'gender': gender, 'category_id': category_id}\n",
    "competitions_df = pd.DataFrame(data)\n",
    "\n",
    "print(competitions_df.shape)\n",
    "\n",
    "print(competitions_df.duplicated().sum())\n",
    "\n",
    "competitions_df.drop_duplicates(subset=['competition_id'])\n",
    "\n",
    "competitions_df"
   ]
  },
  {
   "cell_type": "code",
   "execution_count": 16,
   "metadata": {},
   "outputs": [
    {
     "name": "stdout",
     "output_type": "stream",
     "text": [
      "Data successfully pushed to PostgreSQL!\n"
     ]
    }
   ],
   "source": [
    "engine_string = f\"postgresql://{username}:{password}@{host}:{port}/{database}\"\n",
    "engine = create_engine(engine_string)\n",
    "\n",
    "competitions_df.to_sql('competitions', engine, if_exists='append', index=False)\n",
    "\n",
    "print(\"Data successfully pushed to PostgreSQL!\")"
   ]
  },
  {
   "cell_type": "code",
   "execution_count": null,
   "metadata": {},
   "outputs": [],
   "source": [
    "url = \"https://api.sportradar.com/tennis/trial/v3/en/complexes.json?api_key=CREbOpUEx8KkSY2oHWgkYrIxA7QI5lIrZGrtJloh\"\n",
    "\n",
    "headers = {\"accept\": \"application/json\"}\n",
    "\n",
    "response = requests.get(url, headers=headers).json()\n",
    "\n",
    "complexes_list = response['complexes']\n",
    "\n",
    "complexes_list"
   ]
  },
  {
   "cell_type": "markdown",
   "metadata": {},
   "source": [
    "FETCH DATA FROM API AND CONVERTED INTO DATAFRAME FOR complexes_table"
   ]
  },
  {
   "cell_type": "code",
   "execution_count": 8,
   "metadata": {},
   "outputs": [
    {
     "name": "stdout",
     "output_type": "stream",
     "text": [
      "(632, 2)\n",
      "0\n",
      "(632, 2)\n"
     ]
    }
   ],
   "source": [
    "complex_id = []\n",
    "complex_name = []\n",
    "for value in complexes_list:\n",
    "    complex_id.append(value['id'])\n",
    "    complex_name.append(value['name'])\n",
    "\n",
    "data = {'complex_id': complex_id, 'complex_name': complex_name}\n",
    "complexes_table = pd.DataFrame(data)\n",
    "\n",
    "print(complexes_table.shape)\n",
    "\n",
    "print(complexes_table.duplicated().sum())\n",
    "\n",
    "complexes_table.drop_duplicates()\n",
    "\n",
    "print(complexes_table.shape)\n",
    "\n",
    "# complexes_table"
   ]
  },
  {
   "cell_type": "code",
   "execution_count": 26,
   "metadata": {},
   "outputs": [
    {
     "name": "stdout",
     "output_type": "stream",
     "text": [
      "Data successfully pushed to PostgreSQL!\n"
     ]
    }
   ],
   "source": [
    "engine_string = f\"postgresql://{username}:{password}@{host}:{port}/{database}\"\n",
    "engine = create_engine(engine_string)\n",
    "\n",
    "complexes_table.to_sql('complexes', engine, if_exists='append', index=False)\n",
    "\n",
    "print(\"Data successfully pushed to PostgreSQL!\")"
   ]
  },
  {
   "cell_type": "markdown",
   "metadata": {},
   "source": [
    "FETCH DATA FROM API AND CONVERTED INTO DATAFRAME FOR venues_table"
   ]
  },
  {
   "cell_type": "code",
   "execution_count": 15,
   "metadata": {},
   "outputs": [
    {
     "name": "stdout",
     "output_type": "stream",
     "text": [
      "(3207, 7)\n",
      "0\n",
      "(3207, 7)\n",
      "153\n"
     ]
    }
   ],
   "source": [
    "venue_id = []\n",
    "venue_name = []\n",
    "city_name = []\n",
    "country_name = []\n",
    "country_code = []\n",
    "timezone = []\n",
    "complex_id = []\n",
    "\n",
    "count = []\n",
    "\n",
    "for value in complexes_list:\n",
    "    if 'venues' in value:\n",
    "        for venue in value['venues']:\n",
    "            venue_id.append(venue['id'])\n",
    "            venue_name.append(venue['name'])\n",
    "            city_name.append(venue['city_name'])\n",
    "            country_name.append(venue['country_name'])\n",
    "            country_code.append(venue['country_code'])\n",
    "            timezone.append(venue['timezone'])\n",
    "            complex_id.append(value['id'])\n",
    "    else:\n",
    "        count.append(1)\n",
    "\n",
    "\n",
    "data = {'venue_id': venue_id, 'venue_name': venue_name, 'city_name':city_name, 'country_name': country_name, 'country_code': country_code, 'timezone': timezone, 'complex_id': complex_id}\n",
    "venues_table = pd.DataFrame(data)\n",
    "\n",
    "print(venues_table.shape)\n",
    "print(venues_table.duplicated().sum())\n",
    "\n",
    "print(venues_table.shape)\n",
    "print(sum(count))\n"
   ]
  },
  {
   "cell_type": "code",
   "execution_count": 39,
   "metadata": {},
   "outputs": [
    {
     "name": "stdout",
     "output_type": "stream",
     "text": [
      "Data successfully pushed to PostgreSQL!\n"
     ]
    }
   ],
   "source": [
    "engine_string = f\"postgresql://{username}:{password}@{host}:{port}/{database}\"\n",
    "engine = create_engine(engine_string)\n",
    "\n",
    "venues_table.to_sql('venues', engine, if_exists='append', index=False)\n",
    "\n",
    "print(\"Data successfully pushed to PostgreSQL!\")"
   ]
  },
  {
   "cell_type": "code",
   "execution_count": null,
   "metadata": {},
   "outputs": [],
   "source": [
    "url = \"https://api.sportradar.com/tennis/trial/v3/en/double_competitors_rankings.json?api_key=CREbOpUEx8KkSY2oHWgkYrIxA7QI5lIrZGrtJloh\"\n",
    "\n",
    "headers = {\"accept\": \"application/json\"}\n",
    "\n",
    "response = requests.get(url, headers=headers).json()\n",
    "\n",
    "doubles_competitor_rankings = response['rankings'][0]['competitor_rankings']\n",
    "\n",
    "doubles_competitor_rankings"
   ]
  },
  {
   "cell_type": "markdown",
   "metadata": {},
   "source": [
    "FETCH DATA FROM API AND CONVERTED INTO DATAFRAME FOR competitors_table"
   ]
  },
  {
   "cell_type": "code",
   "execution_count": 14,
   "metadata": {},
   "outputs": [
    {
     "name": "stdout",
     "output_type": "stream",
     "text": [
      "(500, 5)\n",
      "0\n"
     ]
    },
    {
     "data": {
      "text/html": [
       "<div>\n",
       "<style scoped>\n",
       "    .dataframe tbody tr th:only-of-type {\n",
       "        vertical-align: middle;\n",
       "    }\n",
       "\n",
       "    .dataframe tbody tr th {\n",
       "        vertical-align: top;\n",
       "    }\n",
       "\n",
       "    .dataframe thead th {\n",
       "        text-align: right;\n",
       "    }\n",
       "</style>\n",
       "<table border=\"1\" class=\"dataframe\">\n",
       "  <thead>\n",
       "    <tr style=\"text-align: right;\">\n",
       "      <th></th>\n",
       "      <th>competitor_id</th>\n",
       "      <th>name</th>\n",
       "      <th>country</th>\n",
       "      <th>country_code</th>\n",
       "      <th>abbreviation</th>\n",
       "    </tr>\n",
       "  </thead>\n",
       "  <tbody>\n",
       "    <tr>\n",
       "      <th>0</th>\n",
       "      <td>sr:competitor:49363</td>\n",
       "      <td>Pavic, Mate</td>\n",
       "      <td>Croatia</td>\n",
       "      <td>HRV</td>\n",
       "      <td>PAV</td>\n",
       "    </tr>\n",
       "    <tr>\n",
       "      <th>1</th>\n",
       "      <td>sr:competitor:51836</td>\n",
       "      <td>Arevalo-Gonzalez, Marcelo</td>\n",
       "      <td>El Salvador</td>\n",
       "      <td>SLV</td>\n",
       "      <td>ARE</td>\n",
       "    </tr>\n",
       "    <tr>\n",
       "      <th>2</th>\n",
       "      <td>sr:competitor:637970</td>\n",
       "      <td>Patten, Henry</td>\n",
       "      <td>Great Britain</td>\n",
       "      <td>GBR</td>\n",
       "      <td>PAT</td>\n",
       "    </tr>\n",
       "    <tr>\n",
       "      <th>3</th>\n",
       "      <td>sr:competitor:14898</td>\n",
       "      <td>Heliovaara, Harri</td>\n",
       "      <td>Finland</td>\n",
       "      <td>FIN</td>\n",
       "      <td>HEL</td>\n",
       "    </tr>\n",
       "    <tr>\n",
       "      <th>4</th>\n",
       "      <td>sr:competitor:87690</td>\n",
       "      <td>Thompson, Jordan</td>\n",
       "      <td>Australia</td>\n",
       "      <td>AUS</td>\n",
       "      <td>THO</td>\n",
       "    </tr>\n",
       "    <tr>\n",
       "      <th>...</th>\n",
       "      <td>...</td>\n",
       "      <td>...</td>\n",
       "      <td>...</td>\n",
       "      <td>...</td>\n",
       "      <td>...</td>\n",
       "    </tr>\n",
       "    <tr>\n",
       "      <th>495</th>\n",
       "      <td>sr:competitor:801374</td>\n",
       "      <td>Gea, Arthur</td>\n",
       "      <td>France</td>\n",
       "      <td>FRA</td>\n",
       "      <td>GEA</td>\n",
       "    </tr>\n",
       "    <tr>\n",
       "      <th>496</th>\n",
       "      <td>sr:competitor:809324</td>\n",
       "      <td>Pacheco Mendez, Rodrigo</td>\n",
       "      <td>Mexico</td>\n",
       "      <td>MEX</td>\n",
       "      <td>PAC</td>\n",
       "    </tr>\n",
       "    <tr>\n",
       "      <th>497</th>\n",
       "      <td>sr:competitor:434058</td>\n",
       "      <td>Boscardin Dias, Pedro</td>\n",
       "      <td>Brazil</td>\n",
       "      <td>BRA</td>\n",
       "      <td>BOS</td>\n",
       "    </tr>\n",
       "    <tr>\n",
       "      <th>498</th>\n",
       "      <td>sr:competitor:908699</td>\n",
       "      <td>Bilardo, Jacopo</td>\n",
       "      <td>Italy</td>\n",
       "      <td>ITA</td>\n",
       "      <td>BIL</td>\n",
       "    </tr>\n",
       "    <tr>\n",
       "      <th>499</th>\n",
       "      <td>sr:competitor:187695</td>\n",
       "      <td>Kozlov, Boris</td>\n",
       "      <td>USA</td>\n",
       "      <td>USA</td>\n",
       "      <td>KOZ</td>\n",
       "    </tr>\n",
       "  </tbody>\n",
       "</table>\n",
       "<p>500 rows × 5 columns</p>\n",
       "</div>"
      ],
      "text/plain": [
       "            competitor_id                       name        country  \\\n",
       "0     sr:competitor:49363                Pavic, Mate        Croatia   \n",
       "1     sr:competitor:51836  Arevalo-Gonzalez, Marcelo    El Salvador   \n",
       "2    sr:competitor:637970              Patten, Henry  Great Britain   \n",
       "3     sr:competitor:14898          Heliovaara, Harri        Finland   \n",
       "4     sr:competitor:87690           Thompson, Jordan      Australia   \n",
       "..                    ...                        ...            ...   \n",
       "495  sr:competitor:801374                Gea, Arthur         France   \n",
       "496  sr:competitor:809324    Pacheco Mendez, Rodrigo         Mexico   \n",
       "497  sr:competitor:434058      Boscardin Dias, Pedro         Brazil   \n",
       "498  sr:competitor:908699            Bilardo, Jacopo          Italy   \n",
       "499  sr:competitor:187695              Kozlov, Boris            USA   \n",
       "\n",
       "    country_code abbreviation  \n",
       "0            HRV          PAV  \n",
       "1            SLV          ARE  \n",
       "2            GBR          PAT  \n",
       "3            FIN          HEL  \n",
       "4            AUS          THO  \n",
       "..           ...          ...  \n",
       "495          FRA          GEA  \n",
       "496          MEX          PAC  \n",
       "497          BRA          BOS  \n",
       "498          ITA          BIL  \n",
       "499          USA          KOZ  \n",
       "\n",
       "[500 rows x 5 columns]"
      ]
     },
     "execution_count": 14,
     "metadata": {},
     "output_type": "execute_result"
    }
   ],
   "source": [
    "competitor_id = []\n",
    "name = []\n",
    "country = []\n",
    "country_code = []\n",
    "abbreviation = []\n",
    "\n",
    "for value in doubles_competitor_rankings:\n",
    "    competitor_id.append(value['competitor'].get('id'))\n",
    "    name.append(value['competitor'].get('name'))\n",
    "    country.append(value['competitor'].get('country'))\n",
    "    abbreviation.append(value['competitor'].get('abbreviation'))\n",
    "    \n",
    "    if value['competitor'].get('country') == 'Neutral':\n",
    "        country_code.append('UNK')  \n",
    "    else:\n",
    "        country_code.append(value['competitor'].get('country_code'))\n",
    "\n",
    "data = {'competitor_id': competitor_id, 'name': name, 'country': country, 'country_code': country_code, 'abbreviation': abbreviation}\n",
    "competitors_table = pd.DataFrame(data)\n",
    "\n",
    "print(competitors_table.shape)\n",
    "\n",
    "print(competitors_table.duplicated().sum())\n",
    "\n",
    "competitors_table\n"
   ]
  },
  {
   "cell_type": "code",
   "execution_count": 65,
   "metadata": {},
   "outputs": [
    {
     "name": "stdout",
     "output_type": "stream",
     "text": [
      "Data successfully pushed to PostgreSQL!\n"
     ]
    }
   ],
   "source": [
    "engine_string = f\"postgresql://{username}:{password}@{host}:{port}/{database}\"\n",
    "engine = create_engine(engine_string)\n",
    "\n",
    "competitors_table.to_sql('competitors', engine, if_exists='append', index=False)\n",
    "\n",
    "print(\"Data successfully pushed to PostgreSQL!\")"
   ]
  },
  {
   "cell_type": "markdown",
   "metadata": {},
   "source": [
    "FETCH DATA FROM API AND CONVERTED INTO DATAFRAME FOR Competitor_Rankings_table"
   ]
  },
  {
   "cell_type": "code",
   "execution_count": 13,
   "metadata": {},
   "outputs": [
    {
     "name": "stdout",
     "output_type": "stream",
     "text": [
      "(500, 5)\n",
      "0\n"
     ]
    },
    {
     "data": {
      "text/html": [
       "<div>\n",
       "<style scoped>\n",
       "    .dataframe tbody tr th:only-of-type {\n",
       "        vertical-align: middle;\n",
       "    }\n",
       "\n",
       "    .dataframe tbody tr th {\n",
       "        vertical-align: top;\n",
       "    }\n",
       "\n",
       "    .dataframe thead th {\n",
       "        text-align: right;\n",
       "    }\n",
       "</style>\n",
       "<table border=\"1\" class=\"dataframe\">\n",
       "  <thead>\n",
       "    <tr style=\"text-align: right;\">\n",
       "      <th></th>\n",
       "      <th>rank</th>\n",
       "      <th>movement</th>\n",
       "      <th>points</th>\n",
       "      <th>competitions_played</th>\n",
       "      <th>competitor_id</th>\n",
       "    </tr>\n",
       "  </thead>\n",
       "  <tbody>\n",
       "    <tr>\n",
       "      <th>0</th>\n",
       "      <td>1</td>\n",
       "      <td>0</td>\n",
       "      <td>7530</td>\n",
       "      <td>22</td>\n",
       "      <td>sr:competitor:49363</td>\n",
       "    </tr>\n",
       "    <tr>\n",
       "      <th>1</th>\n",
       "      <td>1</td>\n",
       "      <td>0</td>\n",
       "      <td>7530</td>\n",
       "      <td>22</td>\n",
       "      <td>sr:competitor:51836</td>\n",
       "    </tr>\n",
       "    <tr>\n",
       "      <th>2</th>\n",
       "      <td>3</td>\n",
       "      <td>10</td>\n",
       "      <td>7075</td>\n",
       "      <td>31</td>\n",
       "      <td>sr:competitor:637970</td>\n",
       "    </tr>\n",
       "    <tr>\n",
       "      <th>3</th>\n",
       "      <td>4</td>\n",
       "      <td>10</td>\n",
       "      <td>7055</td>\n",
       "      <td>28</td>\n",
       "      <td>sr:competitor:14898</td>\n",
       "    </tr>\n",
       "    <tr>\n",
       "      <th>4</th>\n",
       "      <td>5</td>\n",
       "      <td>-2</td>\n",
       "      <td>6475</td>\n",
       "      <td>21</td>\n",
       "      <td>sr:competitor:87690</td>\n",
       "    </tr>\n",
       "    <tr>\n",
       "      <th>...</th>\n",
       "      <td>...</td>\n",
       "      <td>...</td>\n",
       "      <td>...</td>\n",
       "      <td>...</td>\n",
       "      <td>...</td>\n",
       "    </tr>\n",
       "    <tr>\n",
       "      <th>495</th>\n",
       "      <td>496</td>\n",
       "      <td>3</td>\n",
       "      <td>106</td>\n",
       "      <td>11</td>\n",
       "      <td>sr:competitor:801374</td>\n",
       "    </tr>\n",
       "    <tr>\n",
       "      <th>496</th>\n",
       "      <td>497</td>\n",
       "      <td>63</td>\n",
       "      <td>106</td>\n",
       "      <td>12</td>\n",
       "      <td>sr:competitor:809324</td>\n",
       "    </tr>\n",
       "    <tr>\n",
       "      <th>497</th>\n",
       "      <td>498</td>\n",
       "      <td>38</td>\n",
       "      <td>106</td>\n",
       "      <td>18</td>\n",
       "      <td>sr:competitor:434058</td>\n",
       "    </tr>\n",
       "    <tr>\n",
       "      <th>498</th>\n",
       "      <td>499</td>\n",
       "      <td>2</td>\n",
       "      <td>106</td>\n",
       "      <td>18</td>\n",
       "      <td>sr:competitor:908699</td>\n",
       "    </tr>\n",
       "    <tr>\n",
       "      <th>499</th>\n",
       "      <td>500</td>\n",
       "      <td>2</td>\n",
       "      <td>105</td>\n",
       "      <td>12</td>\n",
       "      <td>sr:competitor:187695</td>\n",
       "    </tr>\n",
       "  </tbody>\n",
       "</table>\n",
       "<p>500 rows × 5 columns</p>\n",
       "</div>"
      ],
      "text/plain": [
       "     rank  movement  points  competitions_played         competitor_id\n",
       "0       1         0    7530                   22   sr:competitor:49363\n",
       "1       1         0    7530                   22   sr:competitor:51836\n",
       "2       3        10    7075                   31  sr:competitor:637970\n",
       "3       4        10    7055                   28   sr:competitor:14898\n",
       "4       5        -2    6475                   21   sr:competitor:87690\n",
       "..    ...       ...     ...                  ...                   ...\n",
       "495   496         3     106                   11  sr:competitor:801374\n",
       "496   497        63     106                   12  sr:competitor:809324\n",
       "497   498        38     106                   18  sr:competitor:434058\n",
       "498   499         2     106                   18  sr:competitor:908699\n",
       "499   500         2     105                   12  sr:competitor:187695\n",
       "\n",
       "[500 rows x 5 columns]"
      ]
     },
     "execution_count": 13,
     "metadata": {},
     "output_type": "execute_result"
    }
   ],
   "source": [
    "rank = []\n",
    "movement = []\n",
    "points = []\n",
    "competitions_played = []\n",
    "competitor_id = []\n",
    "\n",
    "for value in doubles_competitor_rankings:\n",
    "    rank.append(value['rank'])\n",
    "    movement.append(value['movement'])\n",
    "    points.append(value['points'])\n",
    "    competitions_played.append(value['competitions_played'])\n",
    "    competitor_id.append(value['competitor']['id'])\n",
    "\n",
    "data = {'rank': rank, 'movement': movement, 'points': points, 'competitions_played': competitions_played, 'competitor_id': competitor_id}\n",
    "Competitor_Rankings_table = pd.DataFrame(data)\n",
    "\n",
    "print(Competitor_Rankings_table.shape)\n",
    "\n",
    "print(Competitor_Rankings_table.duplicated().sum())\n"
   ]
  },
  {
   "cell_type": "code",
   "execution_count": null,
   "metadata": {},
   "outputs": [
    {
     "name": "stdout",
     "output_type": "stream",
     "text": [
      "Data successfully pushed to PostgreSQL!\n"
     ]
    }
   ],
   "source": [
    "engine_string = f\"postgresql://{username}:{password}@{host}:{port}/{database}\"\n",
    "engine = create_engine(engine_string)\n",
    "\n",
    "Competitor_Rankings_table.to_sql('competitor_rankings', engine, if_exists='append', index=False)\n",
    "\n",
    "print(\"Data successfully pushed to PostgreSQL!\")"
   ]
  },
  {
   "cell_type": "code",
   "execution_count": null,
   "metadata": {},
   "outputs": [],
   "source": [
    "engine_string = f\"postgresql://{username}:{password}@{host}:{port}/{database}\"\n",
    "engine = create_engine(engine_string)\n",
    "\n",
    "Competitor_Rankings_query = \"SELECT * FROM competitor_rankings\"\n",
    "Competitor_Rankings = pd.read_sql_query(Competitor_Rankings_query, engine)\n",
    "\n",
    "Competitor_Rankings\n",
    "\n",
    "# Competitor_Rankings.shape\n"
   ]
  },
  {
   "cell_type": "code",
   "execution_count": null,
   "metadata": {},
   "outputs": [],
   "source": []
  },
  {
   "cell_type": "code",
   "execution_count": null,
   "metadata": {},
   "outputs": [],
   "source": []
  }
 ],
 "metadata": {
  "kernelspec": {
   "display_name": "Python 3",
   "language": "python",
   "name": "python3"
  },
  "language_info": {
   "codemirror_mode": {
    "name": "ipython",
    "version": 3
   },
   "file_extension": ".py",
   "mimetype": "text/x-python",
   "name": "python",
   "nbconvert_exporter": "python",
   "pygments_lexer": "ipython3",
   "version": "3.12.3"
  }
 },
 "nbformat": 4,
 "nbformat_minor": 2
}
